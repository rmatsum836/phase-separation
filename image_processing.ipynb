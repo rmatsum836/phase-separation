{
 "cells": [
  {
   "cell_type": "code",
   "execution_count": 1,
   "metadata": {},
   "outputs": [],
   "source": [
    "import os\n",
    "import numpy as np"
   ]
  },
  {
   "cell_type": "code",
   "execution_count": 2,
   "metadata": {},
   "outputs": [],
   "source": [
    "import matplotlib.pyplot as plt\n",
    "import matplotlib.patches as mpatches\n",
    "from matplotlib import rcParams\n",
    "from scipy.signal import convolve2d\n",
    "from scipy.ndimage import gaussian_filter, convolve1d\n",
    "from skimage.io import imread\n",
    "from skimage.filters import threshold_otsu\n",
    "from skimage.segmentation import clear_border\n",
    "from skimage.measure import label, regionprops\n",
    "from skimage.morphology import closing, square, erosion\n",
    "from skimage.color import label2rgb\n",
    "import glob"
   ]
  },
  {
   "cell_type": "markdown",
   "metadata": {},
   "source": [
    "## We will be using image processing techniques and the skimage package to determine whether or not an ionic liquid - solvent mixture is phase separated"
   ]
  },
  {
   "cell_type": "markdown",
   "metadata": {},
   "source": [
    "## The first step will be to convolve the image.  This process smooths out some of the shadowing from the VMD-rendered image"
   ]
  },
  {
   "cell_type": "code",
   "execution_count": 3,
   "metadata": {},
   "outputs": [],
   "source": [
    "def _convolveImage(image, kernel):\n",
    "    def scaleIt(cvld):\n",
    "        cvld[cvld > 255.0] = 255.0\n",
    "        cvld[cvld < 0.0] = 0.0\n",
    "        return cvld\n",
    "    convolved = np.ones(image.shape)\n",
    "    for i in range(convolved.shape[-1]):\n",
    "        cvld = convolve2d(image[:,:,i], kernel, boundary='fill', mode='same',\n",
    "                          fillvalue=0.)\n",
    "        convolved[:,:,i] = scaleIt(cvld)\n",
    "\n",
    "    #plt.imshow(convolved.astype(int))\n",
    "    return convolved.astype(int)"
   ]
  },
  {
   "cell_type": "markdown",
   "metadata": {},
   "source": [
    "## Next we will threshold a gray-scale image via Otsu's method"
   ]
  },
  {
   "cell_type": "code",
   "execution_count": 4,
   "metadata": {},
   "outputs": [],
   "source": [
    "def _apply_otsu(gray):\n",
    "    thresh_otsu = threshold_otsu(gray)\n",
    "    im_bw = gray > thresh_otsu\n",
    "    \n",
    "    return im_bw"
   ]
  },
  {
   "cell_type": "markdown",
   "metadata": {},
   "source": [
    "### In some image processing tutorial, the borders are cleared so that objects near the border aren't counted.  I am skipping this step so that in theory I can still count these objects."
   ]
  },
  {
   "cell_type": "markdown",
   "metadata": {},
   "source": [
    "### To clean up the image, I am going to play around with a cutoff to delete objects that may be either noise or a single atom, which we don't want to count towards total objects.  A filtered image as well as the image properties will be passed into `_cutoff_particles`"
   ]
  },
  {
   "cell_type": "code",
   "execution_count": 5,
   "metadata": {},
   "outputs": [],
   "source": [
    "def _cutoff_particles(image, image_props, cutoff=300):\n",
    "    im_bw_filt = image > 1\n",
    "    \n",
    "    # Loop through image properties and delete small objects\n",
    "    n_regions = 0\n",
    "    for prop in im_props:\n",
    "        if prop.area < cutoff:\n",
    "            im_bw_filt[image==prop.label] == False\n",
    "        else:\n",
    "            n_regions += 1\n",
    "            \n",
    "    #print('Number of individual regions = {}'.format(n_regions))\n",
    "    \n",
    "    return n_regions"
   ]
  },
  {
   "cell_type": "markdown",
   "metadata": {},
   "source": [
    "### Now we will loop through our images and see how our image processing workflow performs"
   ]
  },
  {
   "cell_type": "code",
   "execution_count": 6,
   "metadata": {},
   "outputs": [],
   "source": [
    "hetero_list = list()\n",
    "sigma = 8\n",
    "unsharp_strength = 0.8\n",
    "kernel_size = 10\n",
    "kernel = np.ones((kernel_size, kernel_size)) / kernel_size\n",
    "kernel[0,:]\n",
    "for filepath in glob.iglob('/Users/raymatsumoto/science/keras-phase-sep/data/train-images/hetero/*.png'):\n",
    "    image = imread(filepath)\n",
    "    blurred = gaussian_filter(image, sigma=0.8)\n",
    "    convolved = _convolveImage(image - unsharp_strength * blurred, kernel)\n",
    "    gray = convolved[:,:,0]\n",
    "    im_bw = _apply_otsu(gray)\n",
    "    im_labeled, n_labels = label(im_bw, background=0, return_num=True)\n",
    "    im_labeled += 1\n",
    "    \n",
    "    im_props = regionprops(im_labeled)\n",
    "    n_regions = _cutoff_particles(im_labeled, im_props, cutoff=300)\n",
    "    hetero_list.append(n_regions)"
   ]
  },
  {
   "cell_type": "code",
   "execution_count": 7,
   "metadata": {},
   "outputs": [],
   "source": [
    "homo_list = list()\n",
    "sigma = 8\n",
    "unsharp_strength = 0.8\n",
    "kernel_size = 10\n",
    "kernel = np.ones((kernel_size, kernel_size)) / kernel_size\n",
    "kernel[0,:]\n",
    "for filepath in glob.iglob('/Users/raymatsumoto/science/keras-phase-sep/data/test-images/homo/*.png'):\n",
    "    image = imread(filepath)\n",
    "    blurred = gaussian_filter(image, sigma=0.8)\n",
    "    convolved = _convolveImage(image - unsharp_strength * blurred, kernel)\n",
    "    gray = convolved[:,:,0]\n",
    "    im_bw = _apply_otsu(gray)\n",
    "    im_labeled, n_labels = label(im_bw, background=0, return_num=True)\n",
    "    im_labeled += 1\n",
    "    \n",
    "    im_props = regionprops(im_labeled)\n",
    "    n_regions = _cutoff_particles(im_labeled, im_props, cutoff=300)\n",
    "    homo_list.append(n_regions)"
   ]
  },
  {
   "cell_type": "code",
   "execution_count": 8,
   "metadata": {},
   "outputs": [
    {
     "data": {
      "text/plain": [
       "<matplotlib.legend.Legend at 0x10cb65a90>"
      ]
     },
     "execution_count": 8,
     "metadata": {},
     "output_type": "execute_result"
    },
    {
     "data": {
      "image/png": "[encoded data removed]",
      "text/plain": [
       "<Figure size 576x360 with 1 Axes>"
      ]
     },
     "metadata": {
      "needs_background": "light"
     },
     "output_type": "display_data"
    }
   ],
   "source": [
    "fig, ax = plt.subplots(figsize=(8,5))\n",
    "ax.hist(hetero_list, bins=50, label='hetero')\n",
    "ax.hist(homo_list, bins=50, label='homo')\n",
    "plt.xlabel('Number of Regions')\n",
    "plt.ylabel('Count')\n",
    "plt.legend()"
   ]
  },
  {
   "cell_type": "code",
   "execution_count": null,
   "metadata": {},
   "outputs": [],
   "source": []
  }
 ],
 "metadata": {
  "kernelspec": {
   "display_name": "Python [conda env:hackathon]",
   "language": "python",
   "name": "conda-env-hackathon-py"
  },
  "language_info": {
   "codemirror_mode": {
    "name": "ipython",
    "version": 3
   },
   "file_extension": ".py",
   "mimetype": "text/x-python",
   "name": "python",
   "nbconvert_exporter": "python",
   "pygments_lexer": "ipython3",
   "version": "3.5.2"
  }
 },
 "nbformat": 4,
 "nbformat_minor": 2
}
